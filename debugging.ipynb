{
 "cells": [
  {
   "cell_type": "code",
   "execution_count": 1,
   "id": "2090849f-27d7-48b4-82cd-c55058e1aeba",
   "metadata": {},
   "outputs": [],
   "source": [
    "import intel_npu_acceleration_library"
   ]
  },
  {
   "cell_type": "code",
   "execution_count": 6,
   "id": "67446888-06f6-4ad8-98cc-58fef6ac7a8a",
   "metadata": {},
   "outputs": [
    {
     "name": "stdout",
     "output_type": "stream",
     "text": [
      "Running matrix_multiply on Intel NPU...\n",
      "Result from NPU: [[6.089e-01 8.135e-01 5.418e-05]\n",
      " [7.095e-01 7.646e-01 6.539e-05]\n",
      " [8.081e-01 7.393e-01 7.886e-05]\n",
      " [1.129e+00 9.360e-01 9.787e-05]]\n"
     ]
    }
   ],
   "source": [
    "import numpy as np\n",
    "import intel_npu_acceleration_library.backend as npu_backend\n",
    "\n",
    "# Define the decorator\n",
    "def npu_accelerate(func):\n",
    "    def wrapper(*args, **kwargs):\n",
    "        print(f\"Running {func.__name__} on Intel NPU...\")\n",
    "\n",
    "        # Convert inputs to NumPy arrays (if they aren't already)\n",
    "        X, W = [np.asarray(arg, dtype=np.float16) for arg in args]\n",
    "        \n",
    "        # Use NPU Backend MatMul function\n",
    "        matmul = npu_backend.MatMul(X.shape[1], W.shape[0], X.shape[0])\n",
    "        result = matmul.run(X, W)\n",
    "\n",
    "        return result\n",
    "    return wrapper\n",
    "\n",
    "# Use the decorator for a matrix multiplication function\n",
    "@npu_accelerate\n",
    "def matrix_multiply(X, W):\n",
    "    return np.dot(X, W)  # This will be replaced by the NPU implementation\n",
    "\n",
    "# Example usage\n",
    "X = np.random.rand(4, 3).astype(np.float16)  # Batch of 4, 3 features\n",
    "W = np.random.rand(3, 2).astype(np.float16)  # 3 input channels, 2 output channels\n",
    "\n",
    "result = matrix_multiply(X, W)\n",
    "print(\"Result from NPU:\", result)\n"
   ]
  },
  {
   "cell_type": "markdown",
   "id": "a587ea81-b778-4ac7-bdb1-f8fa79b0dddd",
   "metadata": {},
   "source": [
    "# Basics of oop"
   ]
  },
  {
   "cell_type": "code",
   "execution_count": 9,
   "id": "73e85f9f-a439-48b0-bf1c-9cfeaafd7ba3",
   "metadata": {},
   "outputs": [
    {
     "name": "stdout",
     "output_type": "stream",
     "text": [
      "Person(name='Alice', age=30, city='Unknown')\n"
     ]
    }
   ],
   "source": [
    "from dataclasses import dataclass\n",
    "\n",
    "@dataclass\n",
    "class Person:\n",
    "    name: str\n",
    "    age: int\n",
    "    city: str = \"Unknown\"  # Default value\n",
    "\n",
    "p = Person(name=\"Alice\", age=30)\n",
    "print(p)  # Output: Person(name='Alice', age=30, city='Unknown')"
   ]
  },
  {
   "cell_type": "code",
   "execution_count": 13,
   "id": "a9ea08c5-6626-4ce5-bac9-cb4aa6256af1",
   "metadata": {},
   "outputs": [],
   "source": [
    "import numpy as np\n",
    "\n",
    "class Activation:\n",
    "\n",
    "    @staticmethod\n",
    "    def relu(x):\n",
    "        \"\"\"\n",
    "        Rectified Linear Unit\"\"\"\n",
    "        return max((0,x))\n",
    "\n",
    "class Neuron:\n",
    "    def __init__(self, bias, weights,inputs):\n",
    "        self.bias = bias\n",
    "        self.weights = weights\n",
    "        self.inputs = inputs\n",
    "        self.output = 0\n",
    "\n",
    "class NeuralLayer:\n",
    "    def __init__(self, input_layer, size):\n",
    "        pass\n",
    "        \n",
    "        \n",
    "class NeuralNetwork:\n",
    "    def __init__(self, input_size =784, hidden_layers=[512,512], output_size=10):\n",
    "        self.input_size = input_size\n",
    "        self.hidden_layers = hidden_layers\n",
    "        self.output_size = output_size\n",
    "        self.weights = []\n",
    "        self.biases = []\n",
    "\n",
    "        # Input to Hidden Layers Network\n",
    "        self.weights.append(0.01 * np.random.randn(input_size, \n",
    "                                                   hidden_layers[0]))\n",
    "        self.biases.append(np.zeros((1,hidden_layers[0])))\n",
    "        \n",
    "\n",
    "        "
   ]
  },
  {
   "cell_type": "code",
   "execution_count": 21,
   "id": "f6b078a0-ef23-4b1e-b100-113a5f11ff2f",
   "metadata": {},
   "outputs": [],
   "source": [
    "x = np.linspace(-10,10,100)\n",
    "y = np.array([Activation.relu(i) for i in x])"
   ]
  }
 ],
 "metadata": {
  "kernelspec": {
   "display_name": "Python 3 (ipykernel)",
   "language": "python",
   "name": "python3"
  },
  "language_info": {
   "codemirror_mode": {
    "name": "ipython",
    "version": 3
   },
   "file_extension": ".py",
   "mimetype": "text/x-python",
   "name": "python",
   "nbconvert_exporter": "python",
   "pygments_lexer": "ipython3",
   "version": "3.12.3"
  }
 },
 "nbformat": 4,
 "nbformat_minor": 5
}
